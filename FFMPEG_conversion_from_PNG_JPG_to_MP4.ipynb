{
 "cells": [
  {
   "cell_type": "markdown",
   "metadata": {
    "id": "-3Ao3oMx89Pg"
   },
   "source": [
    "# Convert PNG or JPG to MP4 video files\n",
    "\n",
    "Framerate is 10 by default."
   ]
  },
  {
   "cell_type": "markdown",
   "metadata": {
    "id": "-3Ao3oMx89Pg"
   },
   "source": [
    "!mkdir /project/input\n",
    "!mkdir /project/output"
   ]
  },
  {
   "cell_type": "markdown",
   "metadata": {
    "id": "QFB-DBzR9QNS"
   },
   "source": [
    "## Perform conversion\n",
    "\n",
    "All the folders in input dir will be used to create MP4 files.  \n",
    "The folder names will be used to name the files. \n"
   ]
  },
  {
   "cell_type": "code",
   "execution_count": null,
   "metadata": {
    "id": "B8rNR_QAPO6H"
   },
   "outputs": [],
   "source": [
    "!ffmpeg -framerate 10 -pattern_type glob -i \"/project/input/*/*.png\" -c:v libx264 -r 30 -pix_fmt yuv420p \"/project/output/out.mp4\""
   ]
  }
 ],
 "metadata": {
  "colab": {
   "collapsed_sections": [],
   "provenance": []
  },
  "kernelspec": {
   "display_name": "Python 3",
   "language": "python",
   "name": "python3"
  },
  "language_info": {
   "codemirror_mode": {
    "name": "ipython",
    "version": 3
   },
   "file_extension": ".py",
   "mimetype": "text/x-python",
   "name": "python",
   "nbconvert_exporter": "python",
   "pygments_lexer": "ipython3",
   "version": "3.6.15"
  }
 },
 "nbformat": 4,
 "nbformat_minor": 4
}
